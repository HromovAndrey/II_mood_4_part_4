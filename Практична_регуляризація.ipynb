{
  "nbformat": 4,
  "nbformat_minor": 0,
  "metadata": {
    "colab": {
      "provenance": [],
      "include_colab_link": true
    },
    "kernelspec": {
      "name": "python3",
      "display_name": "Python 3"
    },
    "language_info": {
      "name": "python"
    }
  },
  "cells": [
    {
      "cell_type": "markdown",
      "metadata": {
        "id": "view-in-github",
        "colab_type": "text"
      },
      "source": [
        "<a href=\"https://colab.research.google.com/github/HromovAndrey/II_mood_4_part_4/blob/main/%D0%9F%D1%80%D0%B0%D0%BA%D1%82%D0%B8%D1%87%D0%BD%D0%B0_%D1%80%D0%B5%D0%B3%D1%83%D0%BB%D1%8F%D1%80%D0%B8%D0%B7%D0%B0%D1%86%D1%96%D1%8F.ipynb\" target=\"_parent\"><img src=\"https://colab.research.google.com/assets/colab-badge.svg\" alt=\"Open In Colab\"/></a>"
      ]
    },
    {
      "cell_type": "markdown",
      "source": [
        "Імпорт модулів"
      ],
      "metadata": {
        "id": "w1r0k1UheNCz"
      }
    },
    {
      "cell_type": "code",
      "execution_count": 9,
      "metadata": {
        "id": "4XxgJqCDoExm"
      },
      "outputs": [],
      "source": [
        "import pandas as pd\n",
        "import torch\n",
        "import torch.nn as nn\n",
        "from torch.utils.data import Dataset, DataLoader\n",
        "from sklearn.model_selection import train_test_split\n",
        "\n",
        "device = \"cuda\" if torch.cuda.is_available() else \"cpu\"\n",
        "torch.set_default_device(device)\n"
      ]
    },
    {
      "cell_type": "markdown",
      "source": [
        "Дані про розпад протонів\n",
        "\n",
        "[посилання](https://www.kaggle.com/datasets/fedesoriano/multijet-primary-dataset)"
      ],
      "metadata": {
        "id": "Kpk2KycTeQEE"
      }
    },
    {
      "cell_type": "code",
      "source": [
        "# трохи обробки даних\n",
        "df = pd.read_csv('https://raw.githubusercontent.com/HalyshAnton/IT-Step-Pyton-AI/main/module3/data/MultiJetRun2010B.csv')\n",
        "\n",
        "df = df[df['nBJets'] != 2]\n",
        "\n",
        "columns = df.columns.delete(-1)\n",
        "data = df[columns]\n",
        "df[columns] = (data - data.min()) / (data.max() - data.min())"
      ],
      "metadata": {
        "id": "926S2f5pdnH6"
      },
      "execution_count": 10,
      "outputs": []
    },
    {
      "cell_type": "markdown",
      "source": [
        "Дані погано збалансовані"
      ],
      "metadata": {
        "id": "Mq24yRptMSrO"
      }
    },
    {
      "cell_type": "code",
      "source": [
        "df['nBJets'].value_counts()"
      ],
      "metadata": {
        "id": "X6CQ04GdKnuu",
        "outputId": "f79363a4-babb-4d82-990d-7f1ea660b96c",
        "colab": {
          "base_uri": "https://localhost:8080/",
          "height": 178
        }
      },
      "execution_count": 11,
      "outputs": [
        {
          "output_type": "execute_result",
          "data": {
            "text/plain": [
              "nBJets\n",
              "0    20615\n",
              "1     1056\n",
              "Name: count, dtype: int64"
            ],
            "text/html": [
              "<div>\n",
              "<style scoped>\n",
              "    .dataframe tbody tr th:only-of-type {\n",
              "        vertical-align: middle;\n",
              "    }\n",
              "\n",
              "    .dataframe tbody tr th {\n",
              "        vertical-align: top;\n",
              "    }\n",
              "\n",
              "    .dataframe thead th {\n",
              "        text-align: right;\n",
              "    }\n",
              "</style>\n",
              "<table border=\"1\" class=\"dataframe\">\n",
              "  <thead>\n",
              "    <tr style=\"text-align: right;\">\n",
              "      <th></th>\n",
              "      <th>count</th>\n",
              "    </tr>\n",
              "    <tr>\n",
              "      <th>nBJets</th>\n",
              "      <th></th>\n",
              "    </tr>\n",
              "  </thead>\n",
              "  <tbody>\n",
              "    <tr>\n",
              "      <th>0</th>\n",
              "      <td>20615</td>\n",
              "    </tr>\n",
              "    <tr>\n",
              "      <th>1</th>\n",
              "      <td>1056</td>\n",
              "    </tr>\n",
              "  </tbody>\n",
              "</table>\n",
              "</div><br><label><b>dtype:</b> int64</label>"
            ]
          },
          "metadata": {},
          "execution_count": 11
        }
      ]
    },
    {
      "cell_type": "code",
      "source": [
        "df.head()"
      ],
      "metadata": {
        "colab": {
          "base_uri": "https://localhost:8080/",
          "height": 226
        },
        "id": "eG6_dawddqwd",
        "outputId": "0d399968-ebdc-4e90-b634-07f1a03461b0"
      },
      "execution_count": 12,
      "outputs": [
        {
          "output_type": "execute_result",
          "data": {
            "text/plain": [
              "        Run  Lumi     Event        MR       Rsq        E1       Px1       Py1  \\\n",
              "0  0.082072   0.0  0.000002  0.077191  0.041860  0.044618  0.342725  0.531326   \n",
              "1  0.082072   0.0  0.000006  0.052182  0.055190  0.018690  0.493614  0.585784   \n",
              "2  0.082072   0.0  0.000015  0.154156  0.035263  0.101251  0.540018  0.671386   \n",
              "3  0.082072   0.0  0.000048  0.106599  0.123328  0.063472  0.306290  0.523352   \n",
              "4  0.082072   0.0  0.000063  0.072599  0.024611  0.383563  0.508826  0.564737   \n",
              "\n",
              "        Pz1        E2       Px2       Py2       Pz2        HT       MET  \\\n",
              "0  0.480732  0.055588  0.696681  0.457241  0.440224  0.061659  0.043047   \n",
              "1  0.491979  0.017684  0.567978  0.430552  0.474613  0.025133  0.034687   \n",
              "2  0.470196  0.273968  0.533484  0.338381  0.325311  0.165718  0.059381   \n",
              "3  0.483465  0.039306  0.713922  0.422854  0.493248  0.101707  0.108566   \n",
              "4  0.292545  0.224039  0.550834  0.433906  0.361549  0.110721  0.018941   \n",
              "\n",
              "   nJets  nBJets  \n",
              "0    0.0       0  \n",
              "1    0.0       0  \n",
              "2    0.2       0  \n",
              "3    0.0       0  \n",
              "4    0.2       0  "
            ],
            "text/html": [
              "\n",
              "  <div id=\"df-ddd03163-0dac-4584-b555-1341027a9aa2\" class=\"colab-df-container\">\n",
              "    <div>\n",
              "<style scoped>\n",
              "    .dataframe tbody tr th:only-of-type {\n",
              "        vertical-align: middle;\n",
              "    }\n",
              "\n",
              "    .dataframe tbody tr th {\n",
              "        vertical-align: top;\n",
              "    }\n",
              "\n",
              "    .dataframe thead th {\n",
              "        text-align: right;\n",
              "    }\n",
              "</style>\n",
              "<table border=\"1\" class=\"dataframe\">\n",
              "  <thead>\n",
              "    <tr style=\"text-align: right;\">\n",
              "      <th></th>\n",
              "      <th>Run</th>\n",
              "      <th>Lumi</th>\n",
              "      <th>Event</th>\n",
              "      <th>MR</th>\n",
              "      <th>Rsq</th>\n",
              "      <th>E1</th>\n",
              "      <th>Px1</th>\n",
              "      <th>Py1</th>\n",
              "      <th>Pz1</th>\n",
              "      <th>E2</th>\n",
              "      <th>Px2</th>\n",
              "      <th>Py2</th>\n",
              "      <th>Pz2</th>\n",
              "      <th>HT</th>\n",
              "      <th>MET</th>\n",
              "      <th>nJets</th>\n",
              "      <th>nBJets</th>\n",
              "    </tr>\n",
              "  </thead>\n",
              "  <tbody>\n",
              "    <tr>\n",
              "      <th>0</th>\n",
              "      <td>0.082072</td>\n",
              "      <td>0.0</td>\n",
              "      <td>0.000002</td>\n",
              "      <td>0.077191</td>\n",
              "      <td>0.041860</td>\n",
              "      <td>0.044618</td>\n",
              "      <td>0.342725</td>\n",
              "      <td>0.531326</td>\n",
              "      <td>0.480732</td>\n",
              "      <td>0.055588</td>\n",
              "      <td>0.696681</td>\n",
              "      <td>0.457241</td>\n",
              "      <td>0.440224</td>\n",
              "      <td>0.061659</td>\n",
              "      <td>0.043047</td>\n",
              "      <td>0.0</td>\n",
              "      <td>0</td>\n",
              "    </tr>\n",
              "    <tr>\n",
              "      <th>1</th>\n",
              "      <td>0.082072</td>\n",
              "      <td>0.0</td>\n",
              "      <td>0.000006</td>\n",
              "      <td>0.052182</td>\n",
              "      <td>0.055190</td>\n",
              "      <td>0.018690</td>\n",
              "      <td>0.493614</td>\n",
              "      <td>0.585784</td>\n",
              "      <td>0.491979</td>\n",
              "      <td>0.017684</td>\n",
              "      <td>0.567978</td>\n",
              "      <td>0.430552</td>\n",
              "      <td>0.474613</td>\n",
              "      <td>0.025133</td>\n",
              "      <td>0.034687</td>\n",
              "      <td>0.0</td>\n",
              "      <td>0</td>\n",
              "    </tr>\n",
              "    <tr>\n",
              "      <th>2</th>\n",
              "      <td>0.082072</td>\n",
              "      <td>0.0</td>\n",
              "      <td>0.000015</td>\n",
              "      <td>0.154156</td>\n",
              "      <td>0.035263</td>\n",
              "      <td>0.101251</td>\n",
              "      <td>0.540018</td>\n",
              "      <td>0.671386</td>\n",
              "      <td>0.470196</td>\n",
              "      <td>0.273968</td>\n",
              "      <td>0.533484</td>\n",
              "      <td>0.338381</td>\n",
              "      <td>0.325311</td>\n",
              "      <td>0.165718</td>\n",
              "      <td>0.059381</td>\n",
              "      <td>0.2</td>\n",
              "      <td>0</td>\n",
              "    </tr>\n",
              "    <tr>\n",
              "      <th>3</th>\n",
              "      <td>0.082072</td>\n",
              "      <td>0.0</td>\n",
              "      <td>0.000048</td>\n",
              "      <td>0.106599</td>\n",
              "      <td>0.123328</td>\n",
              "      <td>0.063472</td>\n",
              "      <td>0.306290</td>\n",
              "      <td>0.523352</td>\n",
              "      <td>0.483465</td>\n",
              "      <td>0.039306</td>\n",
              "      <td>0.713922</td>\n",
              "      <td>0.422854</td>\n",
              "      <td>0.493248</td>\n",
              "      <td>0.101707</td>\n",
              "      <td>0.108566</td>\n",
              "      <td>0.0</td>\n",
              "      <td>0</td>\n",
              "    </tr>\n",
              "    <tr>\n",
              "      <th>4</th>\n",
              "      <td>0.082072</td>\n",
              "      <td>0.0</td>\n",
              "      <td>0.000063</td>\n",
              "      <td>0.072599</td>\n",
              "      <td>0.024611</td>\n",
              "      <td>0.383563</td>\n",
              "      <td>0.508826</td>\n",
              "      <td>0.564737</td>\n",
              "      <td>0.292545</td>\n",
              "      <td>0.224039</td>\n",
              "      <td>0.550834</td>\n",
              "      <td>0.433906</td>\n",
              "      <td>0.361549</td>\n",
              "      <td>0.110721</td>\n",
              "      <td>0.018941</td>\n",
              "      <td>0.2</td>\n",
              "      <td>0</td>\n",
              "    </tr>\n",
              "  </tbody>\n",
              "</table>\n",
              "</div>\n",
              "    <div class=\"colab-df-buttons\">\n",
              "\n",
              "  <div class=\"colab-df-container\">\n",
              "    <button class=\"colab-df-convert\" onclick=\"convertToInteractive('df-ddd03163-0dac-4584-b555-1341027a9aa2')\"\n",
              "            title=\"Convert this dataframe to an interactive table.\"\n",
              "            style=\"display:none;\">\n",
              "\n",
              "  <svg xmlns=\"http://www.w3.org/2000/svg\" height=\"24px\" viewBox=\"0 -960 960 960\">\n",
              "    <path d=\"M120-120v-720h720v720H120Zm60-500h600v-160H180v160Zm220 220h160v-160H400v160Zm0 220h160v-160H400v160ZM180-400h160v-160H180v160Zm440 0h160v-160H620v160ZM180-180h160v-160H180v160Zm440 0h160v-160H620v160Z\"/>\n",
              "  </svg>\n",
              "    </button>\n",
              "\n",
              "  <style>\n",
              "    .colab-df-container {\n",
              "      display:flex;\n",
              "      gap: 12px;\n",
              "    }\n",
              "\n",
              "    .colab-df-convert {\n",
              "      background-color: #E8F0FE;\n",
              "      border: none;\n",
              "      border-radius: 50%;\n",
              "      cursor: pointer;\n",
              "      display: none;\n",
              "      fill: #1967D2;\n",
              "      height: 32px;\n",
              "      padding: 0 0 0 0;\n",
              "      width: 32px;\n",
              "    }\n",
              "\n",
              "    .colab-df-convert:hover {\n",
              "      background-color: #E2EBFA;\n",
              "      box-shadow: 0px 1px 2px rgba(60, 64, 67, 0.3), 0px 1px 3px 1px rgba(60, 64, 67, 0.15);\n",
              "      fill: #174EA6;\n",
              "    }\n",
              "\n",
              "    .colab-df-buttons div {\n",
              "      margin-bottom: 4px;\n",
              "    }\n",
              "\n",
              "    [theme=dark] .colab-df-convert {\n",
              "      background-color: #3B4455;\n",
              "      fill: #D2E3FC;\n",
              "    }\n",
              "\n",
              "    [theme=dark] .colab-df-convert:hover {\n",
              "      background-color: #434B5C;\n",
              "      box-shadow: 0px 1px 3px 1px rgba(0, 0, 0, 0.15);\n",
              "      filter: drop-shadow(0px 1px 2px rgba(0, 0, 0, 0.3));\n",
              "      fill: #FFFFFF;\n",
              "    }\n",
              "  </style>\n",
              "\n",
              "    <script>\n",
              "      const buttonEl =\n",
              "        document.querySelector('#df-ddd03163-0dac-4584-b555-1341027a9aa2 button.colab-df-convert');\n",
              "      buttonEl.style.display =\n",
              "        google.colab.kernel.accessAllowed ? 'block' : 'none';\n",
              "\n",
              "      async function convertToInteractive(key) {\n",
              "        const element = document.querySelector('#df-ddd03163-0dac-4584-b555-1341027a9aa2');\n",
              "        const dataTable =\n",
              "          await google.colab.kernel.invokeFunction('convertToInteractive',\n",
              "                                                    [key], {});\n",
              "        if (!dataTable) return;\n",
              "\n",
              "        const docLinkHtml = 'Like what you see? Visit the ' +\n",
              "          '<a target=\"_blank\" href=https://colab.research.google.com/notebooks/data_table.ipynb>data table notebook</a>'\n",
              "          + ' to learn more about interactive tables.';\n",
              "        element.innerHTML = '';\n",
              "        dataTable['output_type'] = 'display_data';\n",
              "        await google.colab.output.renderOutput(dataTable, element);\n",
              "        const docLink = document.createElement('div');\n",
              "        docLink.innerHTML = docLinkHtml;\n",
              "        element.appendChild(docLink);\n",
              "      }\n",
              "    </script>\n",
              "  </div>\n",
              "\n",
              "\n",
              "<div id=\"df-896be430-78e7-4304-bd54-33c893551af8\">\n",
              "  <button class=\"colab-df-quickchart\" onclick=\"quickchart('df-896be430-78e7-4304-bd54-33c893551af8')\"\n",
              "            title=\"Suggest charts\"\n",
              "            style=\"display:none;\">\n",
              "\n",
              "<svg xmlns=\"http://www.w3.org/2000/svg\" height=\"24px\"viewBox=\"0 0 24 24\"\n",
              "     width=\"24px\">\n",
              "    <g>\n",
              "        <path d=\"M19 3H5c-1.1 0-2 .9-2 2v14c0 1.1.9 2 2 2h14c1.1 0 2-.9 2-2V5c0-1.1-.9-2-2-2zM9 17H7v-7h2v7zm4 0h-2V7h2v10zm4 0h-2v-4h2v4z\"/>\n",
              "    </g>\n",
              "</svg>\n",
              "  </button>\n",
              "\n",
              "<style>\n",
              "  .colab-df-quickchart {\n",
              "      --bg-color: #E8F0FE;\n",
              "      --fill-color: #1967D2;\n",
              "      --hover-bg-color: #E2EBFA;\n",
              "      --hover-fill-color: #174EA6;\n",
              "      --disabled-fill-color: #AAA;\n",
              "      --disabled-bg-color: #DDD;\n",
              "  }\n",
              "\n",
              "  [theme=dark] .colab-df-quickchart {\n",
              "      --bg-color: #3B4455;\n",
              "      --fill-color: #D2E3FC;\n",
              "      --hover-bg-color: #434B5C;\n",
              "      --hover-fill-color: #FFFFFF;\n",
              "      --disabled-bg-color: #3B4455;\n",
              "      --disabled-fill-color: #666;\n",
              "  }\n",
              "\n",
              "  .colab-df-quickchart {\n",
              "    background-color: var(--bg-color);\n",
              "    border: none;\n",
              "    border-radius: 50%;\n",
              "    cursor: pointer;\n",
              "    display: none;\n",
              "    fill: var(--fill-color);\n",
              "    height: 32px;\n",
              "    padding: 0;\n",
              "    width: 32px;\n",
              "  }\n",
              "\n",
              "  .colab-df-quickchart:hover {\n",
              "    background-color: var(--hover-bg-color);\n",
              "    box-shadow: 0 1px 2px rgba(60, 64, 67, 0.3), 0 1px 3px 1px rgba(60, 64, 67, 0.15);\n",
              "    fill: var(--button-hover-fill-color);\n",
              "  }\n",
              "\n",
              "  .colab-df-quickchart-complete:disabled,\n",
              "  .colab-df-quickchart-complete:disabled:hover {\n",
              "    background-color: var(--disabled-bg-color);\n",
              "    fill: var(--disabled-fill-color);\n",
              "    box-shadow: none;\n",
              "  }\n",
              "\n",
              "  .colab-df-spinner {\n",
              "    border: 2px solid var(--fill-color);\n",
              "    border-color: transparent;\n",
              "    border-bottom-color: var(--fill-color);\n",
              "    animation:\n",
              "      spin 1s steps(1) infinite;\n",
              "  }\n",
              "\n",
              "  @keyframes spin {\n",
              "    0% {\n",
              "      border-color: transparent;\n",
              "      border-bottom-color: var(--fill-color);\n",
              "      border-left-color: var(--fill-color);\n",
              "    }\n",
              "    20% {\n",
              "      border-color: transparent;\n",
              "      border-left-color: var(--fill-color);\n",
              "      border-top-color: var(--fill-color);\n",
              "    }\n",
              "    30% {\n",
              "      border-color: transparent;\n",
              "      border-left-color: var(--fill-color);\n",
              "      border-top-color: var(--fill-color);\n",
              "      border-right-color: var(--fill-color);\n",
              "    }\n",
              "    40% {\n",
              "      border-color: transparent;\n",
              "      border-right-color: var(--fill-color);\n",
              "      border-top-color: var(--fill-color);\n",
              "    }\n",
              "    60% {\n",
              "      border-color: transparent;\n",
              "      border-right-color: var(--fill-color);\n",
              "    }\n",
              "    80% {\n",
              "      border-color: transparent;\n",
              "      border-right-color: var(--fill-color);\n",
              "      border-bottom-color: var(--fill-color);\n",
              "    }\n",
              "    90% {\n",
              "      border-color: transparent;\n",
              "      border-bottom-color: var(--fill-color);\n",
              "    }\n",
              "  }\n",
              "</style>\n",
              "\n",
              "  <script>\n",
              "    async function quickchart(key) {\n",
              "      const quickchartButtonEl =\n",
              "        document.querySelector('#' + key + ' button');\n",
              "      quickchartButtonEl.disabled = true;  // To prevent multiple clicks.\n",
              "      quickchartButtonEl.classList.add('colab-df-spinner');\n",
              "      try {\n",
              "        const charts = await google.colab.kernel.invokeFunction(\n",
              "            'suggestCharts', [key], {});\n",
              "      } catch (error) {\n",
              "        console.error('Error during call to suggestCharts:', error);\n",
              "      }\n",
              "      quickchartButtonEl.classList.remove('colab-df-spinner');\n",
              "      quickchartButtonEl.classList.add('colab-df-quickchart-complete');\n",
              "    }\n",
              "    (() => {\n",
              "      let quickchartButtonEl =\n",
              "        document.querySelector('#df-896be430-78e7-4304-bd54-33c893551af8 button');\n",
              "      quickchartButtonEl.style.display =\n",
              "        google.colab.kernel.accessAllowed ? 'block' : 'none';\n",
              "    })();\n",
              "  </script>\n",
              "</div>\n",
              "    </div>\n",
              "  </div>\n"
            ],
            "application/vnd.google.colaboratory.intrinsic+json": {
              "type": "dataframe",
              "variable_name": "df",
              "summary": "{\n  \"name\": \"df\",\n  \"rows\": 21671,\n  \"fields\": [\n    {\n      \"column\": \"Run\",\n      \"properties\": {\n        \"dtype\": \"number\",\n        \"std\": 0.47494780154320004,\n        \"min\": 0.0,\n        \"max\": 1.0,\n        \"num_unique_values\": 4,\n        \"samples\": [\n          0.0,\n          0.002390438247011952,\n          0.08207171314741035\n        ],\n        \"semantic_type\": \"\",\n        \"description\": \"\"\n      }\n    },\n    {\n      \"column\": \"Lumi\",\n      \"properties\": {\n        \"dtype\": \"number\",\n        \"std\": 0.35064319825324997,\n        \"min\": 0.0,\n        \"max\": 1.0,\n        \"num_unique_values\": 28,\n        \"samples\": [\n          0.05296610169491525,\n          0.998587570621469,\n          0.052259887005649715\n        ],\n        \"semantic_type\": \"\",\n        \"description\": \"\"\n      }\n    },\n    {\n      \"column\": \"Event\",\n      \"properties\": {\n        \"dtype\": \"number\",\n        \"std\": 0.3415750461376237,\n        \"min\": 0.0,\n        \"max\": 1.0,\n        \"num_unique_values\": 21671,\n        \"samples\": [\n          0.14366397306151077,\n          0.9912795062217793,\n          0.9986842565014573\n        ],\n        \"semantic_type\": \"\",\n        \"description\": \"\"\n      }\n    },\n    {\n      \"column\": \"MR\",\n      \"properties\": {\n        \"dtype\": \"number\",\n        \"std\": 0.08061604645799919,\n        \"min\": 0.0,\n        \"max\": 1.0,\n        \"num_unique_values\": 21075,\n        \"samples\": [\n          0.12676535153358603,\n          0.1172787847143802,\n          0.0456710966016134\n        ],\n        \"semantic_type\": \"\",\n        \"description\": \"\"\n      }\n    },\n    {\n      \"column\": \"Rsq\",\n      \"properties\": {\n        \"dtype\": \"number\",\n        \"std\": 0.030469033171438214,\n        \"min\": 0.0,\n        \"max\": 1.0,\n        \"num_unique_values\": 21434,\n        \"samples\": [\n          0.018209360844243443,\n          0.07299508760312509,\n          0.027949880732130443\n        ],\n        \"semantic_type\": \"\",\n        \"description\": \"\"\n      }\n    },\n    {\n      \"column\": \"E1\",\n      \"properties\": {\n        \"dtype\": \"number\",\n        \"std\": 0.10899557004765521,\n        \"min\": 0.0,\n        \"max\": 1.0,\n        \"num_unique_values\": 21094,\n        \"samples\": [\n          0.08534456619471716,\n          0.502443898092824,\n          0.05407257028528774\n        ],\n        \"semantic_type\": \"\",\n        \"description\": \"\"\n      }\n    },\n    {\n      \"column\": \"Px1\",\n      \"properties\": {\n        \"dtype\": \"number\",\n        \"std\": 0.07239304402928741,\n        \"min\": 0.0,\n        \"max\": 1.0,\n        \"num_unique_values\": 21433,\n        \"samples\": [\n          0.5119325936410049,\n          0.35655384357781933,\n          0.47965274794015067\n        ],\n        \"semantic_type\": \"\",\n        \"description\": \"\"\n      }\n    },\n    {\n      \"column\": \"Py1\",\n      \"properties\": {\n        \"dtype\": \"number\",\n        \"std\": 0.08110288671823111,\n        \"min\": 0.0,\n        \"max\": 1.0,\n        \"num_unique_values\": 21462,\n        \"samples\": [\n          0.5482193669158132,\n          0.5866629299162629,\n          0.531226270964466\n        ],\n        \"semantic_type\": \"\",\n        \"description\": \"\"\n      }\n    },\n    {\n      \"column\": \"Pz1\",\n      \"properties\": {\n        \"dtype\": \"number\",\n        \"std\": 0.08363592173506569,\n        \"min\": 0.0,\n        \"max\": 1.0,\n        \"num_unique_values\": 21561,\n        \"samples\": [\n          0.6489199843298565,\n          0.4357568189608736,\n          0.5106742568924146\n        ],\n        \"semantic_type\": \"\",\n        \"description\": \"\"\n      }\n    },\n    {\n      \"column\": \"E2\",\n      \"properties\": {\n        \"dtype\": \"number\",\n        \"std\": 0.11494038552992812,\n        \"min\": 0.0,\n        \"max\": 1.0,\n        \"num_unique_values\": 21174,\n        \"samples\": [\n          0.2479889929081668,\n          0.7417659156545615,\n          0.47518291395924106\n        ],\n        \"semantic_type\": \"\",\n        \"description\": \"\"\n      }\n    },\n    {\n      \"column\": \"Px2\",\n      \"properties\": {\n        \"dtype\": \"number\",\n        \"std\": 0.0693748799040197,\n        \"min\": 0.0,\n        \"max\": 1.0,\n        \"num_unique_values\": 21520,\n        \"samples\": [\n          0.6846458146001855,\n          0.5011561028298285,\n          0.6260067954964457\n        ],\n        \"semantic_type\": \"\",\n        \"description\": \"\"\n      }\n    },\n    {\n      \"column\": \"Py2\",\n      \"properties\": {\n        \"dtype\": \"number\",\n        \"std\": 0.06911262296746745,\n        \"min\": 0.0,\n        \"max\": 1.0,\n        \"num_unique_values\": 21531,\n        \"samples\": [\n          0.3534444814633946,\n          0.42495513151108816,\n          0.43670918774845163\n        ],\n        \"semantic_type\": \"\",\n        \"description\": \"\"\n      }\n    },\n    {\n      \"column\": \"Pz2\",\n      \"properties\": {\n        \"dtype\": \"number\",\n        \"std\": 0.09247895562733348,\n        \"min\": 0.0,\n        \"max\": 1.0,\n        \"num_unique_values\": 21559,\n        \"samples\": [\n          0.49216977144713725,\n          0.42971791016023714,\n          0.5134739517592158\n        ],\n        \"semantic_type\": \"\",\n        \"description\": \"\"\n      }\n    },\n    {\n      \"column\": \"HT\",\n      \"properties\": {\n        \"dtype\": \"number\",\n        \"std\": 0.05864908347712315,\n        \"min\": 0.0,\n        \"max\": 1.0,\n        \"num_unique_values\": 20513,\n        \"samples\": [\n          0.05972756787697923,\n          0.10450088395846441,\n          0.08198006696022635\n        ],\n        \"semantic_type\": \"\",\n        \"description\": \"\"\n      }\n    },\n    {\n      \"column\": \"MET\",\n      \"properties\": {\n        \"dtype\": \"number\",\n        \"std\": 0.025460219831558505,\n        \"min\": 0.0,\n        \"max\": 1.0,\n        \"num_unique_values\": 21149,\n        \"samples\": [\n          0.0719300758523552,\n          0.06689513329189,\n          0.033321758087060324\n        ],\n        \"semantic_type\": \"\",\n        \"description\": \"\"\n      }\n    },\n    {\n      \"column\": \"nJets\",\n      \"properties\": {\n        \"dtype\": \"number\",\n        \"std\": 0.13096366120215894,\n        \"min\": 0.0,\n        \"max\": 1.0,\n        \"num_unique_values\": 6,\n        \"samples\": [\n          0.0,\n          0.2,\n          1.0\n        ],\n        \"semantic_type\": \"\",\n        \"description\": \"\"\n      }\n    },\n    {\n      \"column\": \"nBJets\",\n      \"properties\": {\n        \"dtype\": \"number\",\n        \"std\": 0,\n        \"min\": 0,\n        \"max\": 1,\n        \"num_unique_values\": 2,\n        \"samples\": [\n          1,\n          0\n        ],\n        \"semantic_type\": \"\",\n        \"description\": \"\"\n      }\n    }\n  ]\n}"
            }
          },
          "metadata": {},
          "execution_count": 12
        }
      ]
    },
    {
      "cell_type": "markdown",
      "source": [
        "Потрібно на основі інформації про розпад спрогнозувати наявність високоенергетичного випромінювання `nBJets`"
      ],
      "metadata": {
        "id": "KAmkR_CFejgQ"
      }
    },
    {
      "cell_type": "markdown",
      "source": [
        "# Завдання 1\n",
        "Створіть клас Dataset для тренувальних та тестових даних"
      ],
      "metadata": {
        "id": "dBt0E5BJe6OK"
      }
    },
    {
      "cell_type": "code",
      "source": [
        "class ProtonDecayDataset(Dataset):\n",
        "    def __init__(self, data, targets):\n",
        "        self.data = torch.FloatTensor(data.values)\n",
        "        self.targets = torch.FloatTensor(targets.values).reshape(-1, 1)\n",
        "\n",
        "    def __len__(self):\n",
        "        return len(self.data)\n",
        "\n",
        "    def __getitem__(self, index):\n",
        "        return self.data[index], self.targets[index]"
      ],
      "metadata": {
        "id": "zQar7xD0K21Y"
      },
      "execution_count": 13,
      "outputs": []
    },
    {
      "cell_type": "markdown",
      "source": [
        "# Завдання 2\n",
        "Створіть DataLoader"
      ],
      "metadata": {
        "id": "zQlB_6WzfB8n"
      }
    },
    {
      "cell_type": "code",
      "source": [
        "X = df.drop(columns=['nBJets'])\n",
        "y = df['nBJets']\n",
        "\n",
        "X_train, X_test, y_train, y_test = train_test_split(X, y, test_size=0.2, random_state=42, stratify=y)\n",
        "\n",
        "train_dataset = ProtonDecayDataset(X_train, y_train)\n",
        "test_dataset = ProtonDecayDataset(X_test, y_test)\n",
        "\n",
        "batch_size = 512\n",
        "train_loader = DataLoader(train_dataset, batch_size=batch_size, shuffle=True)\n",
        "test_loader = DataLoader(test_dataset, batch_size=batch_size, shuffle=False)"
      ],
      "metadata": {
        "id": "FNeQ6-2mlcQ8"
      },
      "execution_count": 14,
      "outputs": []
    },
    {
      "cell_type": "markdown",
      "source": [
        "# Завдання 3\n",
        "Створіть нейромережу"
      ],
      "metadata": {
        "id": "2W93LiDxfZrx"
      }
    },
    {
      "cell_type": "code",
      "source": [
        "class SimpleNN(nn.Module):\n",
        "    def __init__(self, input_dim):\n",
        "        super(SimpleNN, self).__init__()\n",
        "        self.layer1 = nn.Linear(input_dim, 128)\n",
        "        self.layer2 = nn.Linear(128, 64)\n",
        "        self.layer3 = nn.Linear(64, 1)\n",
        "        self.relu = nn.ReLU()\n",
        "        self.sigmoid = nn.Sigmoid()\n",
        "\n",
        "    def forward(self, x):\n",
        "        x = self.relu(self.layer1(x))\n",
        "        x = self.relu(self.layer2(x))\n",
        "        x = self.sigmoid(self.layer3(x))\n",
        "        return x\n",
        "\n",
        "input_dim = X_train.shape[1]\n",
        "model = SimpleNN(input_dim).to(device)\n"
      ],
      "metadata": {
        "id": "p9DHog7Xf7xE"
      },
      "execution_count": 15,
      "outputs": []
    },
    {
      "cell_type": "markdown",
      "source": [
        "# Завдання 4\n",
        "Визначте функцію втрат та оптимізатор, можливо графік швидкості навчання"
      ],
      "metadata": {
        "id": "VmNUVkkUf8gB"
      }
    },
    {
      "cell_type": "code",
      "source": [
        "loss_fn = nn.BCELoss()\n",
        "optimizer = torch.optim.Adam(model.parameters(), lr=1e-3, weight_decay=1e-5)\n",
        "scheduler = torch.optim.lr_scheduler.StepLR(optimizer, step_size=5, gamma=0.1)\n"
      ],
      "metadata": {
        "id": "e1sw9oRBgDXR"
      },
      "execution_count": 16,
      "outputs": []
    },
    {
      "cell_type": "markdown",
      "source": [
        "# Завдання 5\n",
        "Натренуйте нейромережу."
      ],
      "metadata": {
        "id": "qTOFCl_egEFZ"
      }
    },
    {
      "cell_type": "code",
      "source": [
        "num_epochs = 20\n",
        "\n",
        "for epoch in range(num_epochs):\n",
        "    model.train()\n",
        "    running_loss = 0.0\n",
        "\n",
        "    for inputs, targets in train_loader:\n",
        "        inputs, targets = inputs.to(device), targets.to(device)\n",
        "\n",
        "        optimizer.zero_grad()\n",
        "        outputs = model(inputs)\n",
        "        loss = loss_fn(outputs, targets)\n",
        "        loss.backward()\n",
        "        optimizer.step()\n",
        "\n",
        "        running_loss += loss.item() * inputs.size(0)\n",
        "\n",
        "    scheduler.step()\n",
        "\n",
        "    epoch_loss = running_loss / len(train_loader.dataset)\n",
        "    print(f'Epoch {epoch+1}/{num_epochs}, Loss: {epoch_loss:.4f}')\n"
      ],
      "metadata": {
        "id": "Nxo4p3IUgOx5",
        "colab": {
          "base_uri": "https://localhost:8080/"
        },
        "outputId": "2f990c54-148b-4cc6-f77b-d8b4ba992b13"
      },
      "execution_count": 17,
      "outputs": [
        {
          "output_type": "stream",
          "name": "stdout",
          "text": [
            "Epoch 1/20, Loss: 0.4540\n",
            "Epoch 2/20, Loss: 0.2059\n",
            "Epoch 3/20, Loss: 0.1974\n",
            "Epoch 4/20, Loss: 0.1952\n",
            "Epoch 5/20, Loss: 0.1946\n",
            "Epoch 6/20, Loss: 0.1943\n",
            "Epoch 7/20, Loss: 0.1943\n",
            "Epoch 8/20, Loss: 0.1942\n",
            "Epoch 9/20, Loss: 0.1942\n",
            "Epoch 10/20, Loss: 0.1942\n",
            "Epoch 11/20, Loss: 0.1942\n",
            "Epoch 12/20, Loss: 0.1941\n",
            "Epoch 13/20, Loss: 0.1941\n",
            "Epoch 14/20, Loss: 0.1941\n",
            "Epoch 15/20, Loss: 0.1941\n",
            "Epoch 16/20, Loss: 0.1941\n",
            "Epoch 17/20, Loss: 0.1941\n",
            "Epoch 18/20, Loss: 0.1941\n",
            "Epoch 19/20, Loss: 0.1941\n",
            "Epoch 20/20, Loss: 0.1941\n"
          ]
        }
      ]
    },
    {
      "cell_type": "markdown",
      "source": [
        "# Завдання 6\n",
        "Збережіть нейромережу та зробіть прогноз"
      ],
      "metadata": {
        "id": "aoclw4XlgPhB"
      }
    },
    {
      "cell_type": "code",
      "source": [
        "torch.save(model.state_dict(), 'proton_decay_model.pth')\n",
        "\n",
        "model.eval()\n",
        "with torch.no_grad():\n",
        "    predictions = []\n",
        "    for inputs, _ in test_loader:\n",
        "        inputs = inputs.to(device)\n",
        "        outputs = model(inputs)\n",
        "        predictions.extend(outputs.cpu().numpy())\n",
        "\n",
        "predictions = [1 if x >= 0.5 else 0 for x in predictions]\n",
        "\n",
        "from sklearn.metrics import accuracy_score, roc_auc_score\n",
        "\n",
        "accuracy = accuracy_score(y_test, predictions)\n",
        "roc_auc = roc_auc_score(y_test, predictions)\n",
        "\n",
        "print(f'Accuracy: {accuracy:.4f}, ROC AUC: {roc_auc:.4f}')"
      ],
      "metadata": {
        "id": "UzVFg-KjgYgy",
        "colab": {
          "base_uri": "https://localhost:8080/"
        },
        "outputId": "45654eda-353b-4a12-d1ce-4ccf4d1a7bc4"
      },
      "execution_count": 18,
      "outputs": [
        {
          "output_type": "stream",
          "name": "stdout",
          "text": [
            "Accuracy: 0.9513, ROC AUC: 0.5000\n"
          ]
        }
      ]
    }
  ]
}